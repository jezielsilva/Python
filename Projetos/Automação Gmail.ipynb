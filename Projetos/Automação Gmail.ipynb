{
 "cells": [
  {
   "cell_type": "code",
   "execution_count": 5,
   "id": "94c337a6",
   "metadata": {},
   "outputs": [],
   "source": [
    "#importando bibliotecas\n",
    "import time\n",
    "import pyautogui as py \n",
    "import pyperclip as clip\n",
    "\n",
    "#tempo de espera de cada linha de código\n",
    "py.PAUSE = 3\n",
    "\n",
    "py.press(\"winleft\")\n",
    "py.write(\"chrome\")\n",
    "py.press(\"enter\")\n",
    "py.alert(\"O programa iniciou, aperte OK e não mexa em nada !!\")\n",
    "py.hotkey('ctrl', 't')\n",
    "\n",
    "#link do email atribuído a uma variável\n",
    "link = \"https://www.google.com/intl/pt/gmail/about/#\"\n",
    "#pyperclip usado para copiar links por conta de existirem símbolos que somente essa função consegue entender.\n",
    "clip.copy(link)\n",
    "py.hotkey('ctrl', 'v')\n",
    "py.press(\"enter\")\n",
    "#tempo que será aguardado somente nessa linha de comando para dar tempo de toda a página ser carregada.\n",
    "time.sleep(6)\n",
    "\n",
    "#essa posição varia de computador para computador, altere para que dê certo na sua máquina.\n",
    "py.click(1096, 99)\n",
    "email = \"insira seu email\"\n",
    "clip.copy(email)\n",
    "py.hotkey('ctrl', 'v')\n",
    "py.press(\"enter\")\n",
    "senha = \"insira sua senha\"\n",
    "clip.copy(senha)\n",
    "py.hotkey('ctrl', 'v')\n",
    "py.press(\"enter\")\n",
    "\n",
    "\n"
   ]
  },
  {
   "cell_type": "code",
   "execution_count": 3,
   "id": "41270828",
   "metadata": {},
   "outputs": [
    {
     "name": "stdout",
     "output_type": "stream",
     "text": [
      "Point(x=1096, y=99)\n"
     ]
    }
   ],
   "source": [
    "#descobre a posição de algum elemento na tela\n",
    "import time\n",
    "time.sleep(5)\n",
    "print(py.position())"
   ]
  }
 ],
 "metadata": {
  "kernelspec": {
   "display_name": "Python 3",
   "language": "python",
   "name": "python3"
  },
  "language_info": {
   "codemirror_mode": {
    "name": "ipython",
    "version": 3
   },
   "file_extension": ".py",
   "mimetype": "text/x-python",
   "name": "python",
   "nbconvert_exporter": "python",
   "pygments_lexer": "ipython3",
   "version": "3.8.8"
  }
 },
 "nbformat": 4,
 "nbformat_minor": 5
}
