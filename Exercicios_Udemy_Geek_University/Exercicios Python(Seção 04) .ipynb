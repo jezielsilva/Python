{
 "cells": [
  {
   "cell_type": "markdown",
   "id": "31e3e1b8",
   "metadata": {},
   "source": [
    "##### Peça ao usuário para digitar 3 valores inteiros e imprima a soma deles"
   ]
  },
  {
   "cell_type": "code",
   "execution_count": 10,
   "id": "80aa9a42",
   "metadata": {},
   "outputs": [
    {
     "name": "stdout",
     "output_type": "stream",
     "text": [
      "1\n",
      "2\n",
      "3\n",
      "6\n"
     ]
    }
   ],
   "source": [
    "numero1 = input()\n",
    "numero2 = input()\n",
    "numero3 = input()\n",
    "numeros = int(numero1) + int(numero2) + int(numero3)\n",
    "print(numeros)"
   ]
  },
  {
   "cell_type": "markdown",
   "id": "4fa1f92f",
   "metadata": {},
   "source": [
    "##### Leia uma temperatura em graus Celsius e apresente-a convertida em graus fahrenheit. A fórmula de conversão é: F = C * (9.0/5.0)+32.0, sendo C a temperatura em Celsius e F a temperatura em fahrenheit."
   ]
  },
  {
   "cell_type": "code",
   "execution_count": 9,
   "id": "f009a7ca",
   "metadata": {},
   "outputs": [
    {
     "name": "stdout",
     "output_type": "stream",
     "text": [
      "25.6\n",
      "78.08\n"
     ]
    }
   ],
   "source": [
    "C = float(input())\n",
    "F = C * (9.0/5.0)+32.0\n",
    "print('%.2f' % F)\n",
    "\n"
   ]
  },
  {
   "cell_type": "markdown",
   "id": "0cb5026e",
   "metadata": {},
   "source": [
    "##### Leia uma temperatura em graus fahrenheit e apresente-a convertida em graus Celsius. A fórmula de conversão é: C = 5.0*(F-32.0)/9.0, sendo C a temperatura em Celsius e F a temperatura em fahrenheit."
   ]
  },
  {
   "cell_type": "code",
   "execution_count": 17,
   "id": "26487b28",
   "metadata": {},
   "outputs": [
    {
     "name": "stdout",
     "output_type": "stream",
     "text": [
      "77\n",
      "25.0\n"
     ]
    }
   ],
   "source": [
    "F = float(input())\n",
    "C = 5.0*(F-32.0)/9.0\n",
    "print('%.2f' % C)"
   ]
  },
  {
   "cell_type": "markdown",
   "id": "684458a9",
   "metadata": {},
   "source": [
    "##### Leia uma temperatura em graus kelvin e apresente-a convertida em graus Celsius. A fórmula de conversão é: C = K-273.15, sendo C a temperatura em Celsius e K a temperatura em Kelvin."
   ]
  },
  {
   "cell_type": "code",
   "execution_count": 5,
   "id": "0fdcf740",
   "metadata": {},
   "outputs": [
    {
     "name": "stdout",
     "output_type": "stream",
     "text": [
      "58.7\n",
      "-214.45\n"
     ]
    }
   ],
   "source": [
    "K = float(input())\n",
    "C = K-273.15\n",
    "print('%.2f' % C)"
   ]
  },
  {
   "cell_type": "markdown",
   "id": "454b885c",
   "metadata": {},
   "source": [
    "##### Leia uma temperatura em graus Celsius e apresente-a convertida em graus kelvin. A fórmula de conversão é: K = C+273.15, sendo C a temperatura em Celsius e K a temperatura em Kelvin."
   ]
  },
  {
   "cell_type": "code",
   "execution_count": 6,
   "id": "42b78b76",
   "metadata": {},
   "outputs": [
    {
     "name": "stdout",
     "output_type": "stream",
     "text": [
      "-214.45\n",
      "58.70\n"
     ]
    }
   ],
   "source": [
    "C = float(input())\n",
    "K = C+273.15\n",
    "print('%.2f' % K)"
   ]
  },
  {
   "cell_type": "markdown",
   "id": "75823d04",
   "metadata": {},
   "source": [
    "##### Leia a velocidade em km/h e apresente-a convertida em m/s. A fórmula de conversão é: M = K/3.6, sendo K a velocidade em km/h e M em m/s."
   ]
  },
  {
   "cell_type": "code",
   "execution_count": 7,
   "id": "ae6c3354",
   "metadata": {},
   "outputs": [
    {
     "name": "stdout",
     "output_type": "stream",
     "text": [
      "25.6\n",
      "7.11\n"
     ]
    }
   ],
   "source": [
    "K = float(input())\n",
    "M = K/3.6\n",
    "print('%.2f' % M)"
   ]
  },
  {
   "cell_type": "markdown",
   "id": "f58d30d5",
   "metadata": {},
   "source": [
    "##### Faça a leitura de 3 valores e apresente como resultado a soma dos quadrados dos 3 valores lidos."
   ]
  },
  {
   "cell_type": "code",
   "execution_count": 18,
   "id": "6c392cdc",
   "metadata": {},
   "outputs": [
    {
     "name": "stdout",
     "output_type": "stream",
     "text": [
      "2\n",
      "4\n",
      "6\n",
      "4 16 36\n"
     ]
    }
   ],
   "source": [
    "numero1 = int(input())\n",
    "numero2 = int(input())\n",
    "numero3 = int(input())\n",
    "quadrado1 = numero1**2\n",
    "quadrado2 = numero2**2\n",
    "quadrado3 = numero3**2\n",
    "print(quadrado1, quadrado2, quadrado3)\n"
   ]
  },
  {
   "cell_type": "markdown",
   "id": "8ec25e82",
   "metadata": {},
   "source": [
    "##### Leia quatro notas, calcule a média aritmética e imprima o resultado."
   ]
  },
  {
   "cell_type": "code",
   "execution_count": 20,
   "id": "3392d36e",
   "metadata": {},
   "outputs": [
    {
     "name": "stdout",
     "output_type": "stream",
     "text": [
      "7.6\n",
      "5.2\n",
      "4.8\n",
      "8.4\n",
      "6.50\n"
     ]
    }
   ],
   "source": [
    "nota1 = float(input())\n",
    "nota2 = float(input())\n",
    "nota3 = float(input())\n",
    "nota4 = float(input())\n",
    "media = (nota1+nota2+nota3+nota4)/4\n",
    "print('%.2f' % media)"
   ]
  },
  {
   "cell_type": "markdown",
   "id": "3a49fb86",
   "metadata": {},
   "source": [
    "##### Sejam a e b os catetos de um triângulo, onde a hipotenusa é obtida pela equação: hipotenusa = Va^2+b^2. Receba os valores de a e b e calcule a hipotenusa."
   ]
  },
  {
   "cell_type": "code",
   "execution_count": 22,
   "id": "1d8d07b9",
   "metadata": {},
   "outputs": [
    {
     "name": "stdout",
     "output_type": "stream",
     "text": [
      "6\n",
      "8\n",
      "10.00\n"
     ]
    }
   ],
   "source": [
    "import math\n",
    "catetoa = float(input())\n",
    "catetob = float(input())\n",
    "hip = math.sqrt((catetoa**2) + (catetob**2))\n",
    "print('%.2f' % hip)"
   ]
  },
  {
   "cell_type": "markdown",
   "id": "fda96219",
   "metadata": {},
   "source": [
    "##### A importância de 780.000,00 será dividida entre 3 ganhadores de um concurso:\n",
    "##### O primeiro recebe 46%\n",
    "##### O segundo recebe 32%\n",
    "##### O tercerio recebe o restante"
   ]
  },
  {
   "cell_type": "code",
   "execution_count": 40,
   "id": "af30a59e",
   "metadata": {},
   "outputs": [
    {
     "name": "stdout",
     "output_type": "stream",
     "text": [
      "O primeiro receberá: R$ 358,800.00\n",
      "O segundo receberá: R$ 249,600.00\n",
      "O terceiro receberá: R$ 171,600.00\n"
     ]
    }
   ],
   "source": [
    "premio = 780000\n",
    "primeiro = 0.46 * premio\n",
    "segundo = 0.32 * premio\n",
    "terceiro = 0.22 * premio\n",
    "print(f'O primeiro receberá: R$ {primeiro:,.2f}')\n",
    "print(f'O segundo receberá: R$ {segundo:,.2f}')\n",
    "print(f'O terceiro receberá: R$ {terceiro:,.2f}')"
   ]
  },
  {
   "cell_type": "markdown",
   "id": "26d9a4a4",
   "metadata": {},
   "source": [
    "##### A partir de um valor total lido, mostre:\n",
    "##### - o total a pagar com desconto de 10%;\n",
    "##### - o valor de cada parcela, no parcelamento de 3x sem juros;\n",
    "##### - a comissão do vendedor, no caso da venda ser a vista(5% sobre o valor com desconto)\n",
    "##### - a comissão do vendedor, no caso da venda ser parcelada(5% sobre o valor total)"
   ]
  },
  {
   "cell_type": "code",
   "execution_count": 44,
   "id": "c741e6fc",
   "metadata": {},
   "outputs": [
    {
     "name": "stdout",
     "output_type": "stream",
     "text": [
      "2000\n",
      "O valor total a pagar com desconto de 10%: R$ 1,800.00\n",
      "O valor de cada parcela em 3x sem juros: R$666.67\n",
      "O valor da comissão do vendedor, se for a vista: R$90.00\n",
      "O valor da comissão do vendedor, se for parcelado: R$100.00\n"
     ]
    }
   ],
   "source": [
    "valorTotal = float(input())\n",
    "valorComDesconto = valorTotal - (0.10 * valorTotal)\n",
    "valorParcela = valorTotal/3\n",
    "comissaoaVista = (0.05*valorComDesconto)\n",
    "comissaoParcelada = 0.05*valorTotal\n",
    "print(f'O valor total a pagar com desconto de 10%: R$ {valorComDesconto:,.2f}')\n",
    "print(f'O valor de cada parcela em 3x sem juros: R${valorParcela:,.2f}')\n",
    "print(f'O valor da comissão do vendedor, se for a vista: R${comissaoaVista:,.2f}')\n",
    "print(f'O valor da comissão do vendedor, se for parcelado: R${comissaoParcelada:,.2f}')"
   ]
  },
  {
   "cell_type": "markdown",
   "id": "b81b89c5",
   "metadata": {},
   "source": [
    "##### Faça um programa para converter uma letra maiúscula em letra minúscula. Use a tabela ASCII para resolver."
   ]
  },
  {
   "cell_type": "code",
   "execution_count": 10,
   "id": "86351a67",
   "metadata": {},
   "outputs": [
    {
     "name": "stdout",
     "output_type": "stream",
     "text": [
      "S\n",
      "s\n"
     ]
    }
   ],
   "source": [
    "letra = input()\n",
    "letraMaiuscula = ord(letra) + 32\n",
    "letraMinuscula = chr(letraMaiuscula)\n",
    "print(letraMinuscula)"
   ]
  }
 ],
 "metadata": {
  "kernelspec": {
   "display_name": "Python 3",
   "language": "python",
   "name": "python3"
  },
  "language_info": {
   "codemirror_mode": {
    "name": "ipython",
    "version": 3
   },
   "file_extension": ".py",
   "mimetype": "text/x-python",
   "name": "python",
   "nbconvert_exporter": "python",
   "pygments_lexer": "ipython3",
   "version": "3.8.8"
  }
 },
 "nbformat": 4,
 "nbformat_minor": 5
}
